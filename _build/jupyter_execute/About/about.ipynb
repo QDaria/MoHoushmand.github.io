{
 "cells": [
  {
   "cell_type": "markdown",
   "id": "2d18846a",
   "metadata": {},
   "source": [
    "# About"
   ]
  },
  {
   "cell_type": "code",
   "execution_count": 1,
   "id": "f25a43ba",
   "metadata": {
    "tags": [
     "full-width"
    ]
   },
   "outputs": [
    {
     "name": "stdout",
     "output_type": "stream",
     "text": [
      "This is a test.\n"
     ]
    }
   ],
   "source": [
    "print(\"This is a test.\")"
   ]
  },
  {
   "cell_type": "code",
   "execution_count": 2,
   "id": "75f09559",
   "metadata": {
    "tags": [
     "output_scroll"
    ]
   },
   "outputs": [
    {
     "name": "stdout",
     "output_type": "stream",
     "text": [
      "This is a test.\n",
      "This is a test.\n",
      "This is a test.\n",
      "This is a test.\n",
      "This is a test.\n",
      "This is a test.\n",
      "This is a test.\n",
      "This is a test.\n",
      "This is a test.\n",
      "This is a test.\n"
     ]
    }
   ],
   "source": [
    "for ii in range(10):\n",
    "  print(\"This is a test.\")"
   ]
  },
  {
   "cell_type": "code",
   "execution_count": 3,
   "id": "879d499e",
   "metadata": {
    "tags": [
     "margin"
    ]
   },
   "outputs": [
    {
     "name": "stdout",
     "output_type": "stream",
     "text": [
      "This is a test.\n"
     ]
    }
   ],
   "source": [
    "print(\"This is a test.\")"
   ]
  },
  {
   "cell_type": "code",
   "execution_count": 4,
   "id": "b17bc2b2",
   "metadata": {
    "tags": [
     "hide-input"
    ]
   },
   "outputs": [
    {
     "name": "stdout",
     "output_type": "stream",
     "text": [
      "This is a test.\n"
     ]
    }
   ],
   "source": [
    "print(\"This is a test.\")"
   ]
  },
  {
   "cell_type": "code",
   "execution_count": 5,
   "id": "7ca50f37",
   "metadata": {
    "tags": [
     "hide-cell"
    ]
   },
   "outputs": [
    {
     "name": "stdout",
     "output_type": "stream",
     "text": [
      "This is a test.\n"
     ]
    }
   ],
   "source": [
    "print(\"This is a test.\")"
   ]
  },
  {
   "cell_type": "code",
   "execution_count": 6,
   "id": "9f9f1a7e",
   "metadata": {
    "tags": [
     "remove-input"
    ]
   },
   "outputs": [
    {
     "name": "stdout",
     "output_type": "stream",
     "text": [
      "This is a test.\n"
     ]
    }
   ],
   "source": [
    "print(\"This is a test.\")"
   ]
  },
  {
   "cell_type": "code",
   "execution_count": 7,
   "id": "330b9691",
   "metadata": {
    "tags": [
     "remove-cell"
    ]
   },
   "outputs": [
    {
     "name": "stdout",
     "output_type": "stream",
     "text": [
      "This is a test.\n"
     ]
    }
   ],
   "source": [
    "print(\"This is a test.\")"
   ]
  },
  {
   "cell_type": "code",
   "execution_count": 8,
   "id": "e608b91e",
   "metadata": {
    "tags": [
     "raises-exception"
    ]
   },
   "outputs": [
    {
     "ename": "SyntaxError",
     "evalue": "invalid syntax (2884618176.py, line 1)",
     "output_type": "error",
     "traceback": [
      "\u001b[0;36m  Input \u001b[0;32mIn [8]\u001b[0;36m\u001b[0m\n\u001b[0;31m    while True print('Hello world')\u001b[0m\n\u001b[0m               ^\u001b[0m\n\u001b[0;31mSyntaxError\u001b[0m\u001b[0;31m:\u001b[0m invalid syntax\n"
     ]
    }
   ],
   "source": [
    "while True print('Hello world')"
   ]
  },
  {
   "cell_type": "markdown",
   "id": "8de2d021",
   "metadata": {},
   "source": [
    "```python\n",
    "note = \"Python syntax highlighting\"\n",
    "print(node)\n",
    "```"
   ]
  },
  {
   "cell_type": "code",
   "execution_count": 9,
   "id": "90860b13",
   "metadata": {},
   "outputs": [
    {
     "name": "stdout",
     "output_type": "stream",
     "text": [
      "Python syntax highlighting\n"
     ]
    }
   ],
   "source": [
    "note = \"Python syntax highlighting\"\n",
    "print(note)"
   ]
  }
 ],
 "metadata": {
  "jupytext": {
   "formats": "md:myst",
   "text_representation": {
    "extension": ".md",
    "format_name": "myst"
   }
  },
  "kernelspec": {
   "display_name": "Python 3",
   "language": "python",
   "name": "python3"
  },
  "language_info": {
   "codemirror_mode": {
    "name": "ipython",
    "version": 3
   },
   "file_extension": ".py",
   "mimetype": "text/x-python",
   "name": "python",
   "nbconvert_exporter": "python",
   "pygments_lexer": "ipython3",
   "version": "3.10.4"
  },
  "source_map": [
   11,
   15,
   20,
   26,
   31,
   36,
   41,
   46,
   51,
   54,
   61
  ]
 },
 "nbformat": 4,
 "nbformat_minor": 5
}